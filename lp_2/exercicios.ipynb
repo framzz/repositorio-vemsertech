{
 "cells": [
  {
   "cell_type": "markdown",
   "metadata": {},
   "source": [
    "1. Faça um programa que olhe todos os itens de uma lista e diga quantos deles são pares."
   ]
  },
  {
   "cell_type": "code",
   "execution_count": 2,
   "metadata": {},
   "outputs": [
    {
     "name": "stdout",
     "output_type": "stream",
     "text": [
      "The informed list has 15 even numbers\n"
     ]
    }
   ],
   "source": [
    "def count_even(list_even: list = list(range(30))) -> int:\n",
    "    return len([i for i in list_even if i%2 == 0])\n",
    "\n",
    "print(f\"The informed list has {count_even()} even numbers\")\n"
   ]
  },
  {
   "cell_type": "markdown",
   "metadata": {},
   "source": [
    "2. Faça um programa que imprima o maior número de uma lista, sem usar o método max()"
   ]
  },
  {
   "cell_type": "code",
   "execution_count": 16,
   "metadata": {},
   "outputs": [
    {
     "name": "stdout",
     "output_type": "stream",
     "text": [
      "The highest number in the list is 11\n"
     ]
    }
   ],
   "source": [
    "def print_max_num(list_numbers: list) -> int:\n",
    "    return sorted(list_numbers)[-1]\n",
    "\n",
    "list_numbers = [7, 10, 4, 3, 9, 11, 2, 5]\n",
    "print(f\"The highest number in the list is {print_max_num(list_numbers)}\")"
   ]
  },
  {
   "cell_type": "markdown",
   "metadata": {},
   "source": [
    "3. Faça um Programa que peça as 4 notas bimestrais e mostre a média, usando listas."
   ]
  },
  {
   "cell_type": "code",
   "execution_count": 13,
   "metadata": {},
   "outputs": [
    {
     "data": {
      "text/plain": [
       "7.0"
      ]
     },
     "execution_count": 13,
     "metadata": {},
     "output_type": "execute_result"
    }
   ],
   "source": [
    "def calculate_gpa() -> float:\n",
    "    points = [float(input(f'Insert the {i+1}° grade')) for i in range(4)]\n",
    "    return sum(points)/len(points)\n",
    "\n",
    "calculate_gpa()"
   ]
  },
  {
   "cell_type": "markdown",
   "metadata": {},
   "source": [
    "4. Considere que temos uma lista com os nomes de todos os alunos de uma turma, e outra com as notas, na mesma ordem. Como faríamos para acessar, simultaneamente, o nome de um aluno e a sua nota?"
   ]
  },
  {
   "cell_type": "code",
   "execution_count": 15,
   "metadata": {},
   "outputs": [
    {
     "name": "stdout",
     "output_type": "stream",
     "text": [
      "[('Mariana', 5), ('Renata', 9), ('José', 10), ('Gabriel', 7), ('Ana', 4), ('Beatriz', 6), ('Carla', 10)]\n"
     ]
    }
   ],
   "source": [
    "def student_grades(list_students: list, list_grades: list) -> list:\n",
    "    return [student_grade for student_grade in zip(list_students, list_grades)]\n",
    "\n",
    "students = ['Mariana', 'Renata', 'José', 'Gabriel', 'Ana', 'Beatriz', 'Carla']\n",
    "grades = [5, 9, 10, 7, 4, 6, 10]\n",
    "\n",
    "print(student_grades(students, grades))"
   ]
  }
 ],
 "metadata": {
  "kernelspec": {
   "display_name": "Python 3",
   "language": "python",
   "name": "python3"
  },
  "language_info": {
   "codemirror_mode": {
    "name": "ipython",
    "version": 3
   },
   "file_extension": ".py",
   "mimetype": "text/x-python",
   "name": "python",
   "nbconvert_exporter": "python",
   "pygments_lexer": "ipython3",
   "version": "3.11.6"
  }
 },
 "nbformat": 4,
 "nbformat_minor": 2
}
